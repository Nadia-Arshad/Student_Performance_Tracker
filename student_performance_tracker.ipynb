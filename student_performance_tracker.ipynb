{
  "nbformat": 4,
  "nbformat_minor": 0,
  "metadata": {
    "colab": {
      "provenance": []
    },
    "kernelspec": {
      "name": "python3",
      "display_name": "Python 3"
    },
    "language_info": {
      "name": "python"
    }
  },
  "cells": [
    {
      "cell_type": "code",
      "execution_count": 7,
      "metadata": {
        "colab": {
          "base_uri": "https://localhost:8080/"
        },
        "id": "5QHS1f0lZuIm",
        "outputId": "66b385ee-e57a-414d-b23a-5e450d575c36"
      },
      "outputs": [
        {
          "output_type": "stream",
          "name": "stdout",
          "text": [
            "Welcome to the Student Performance Tracker!\n",
            "\n",
            "Enter student details:\n",
            "Student Name (or 'done' to finish): Nadia\n",
            "Enter score for Subject Maths: 87\n",
            "Enter score for Subject English: 64\n",
            "Enter score for Subject Science: 87\n",
            "Enter student details:\n",
            "Student Name (or 'done' to finish): Madi\n",
            "Enter score for Subject Maths: 84\n",
            "Enter score for Subject English: 73\n",
            "Enter score for Subject Science: 95\n",
            "Enter student details:\n",
            "Student Name (or 'done' to finish): Minahil\n",
            "Enter score for Subject Maths: 84\n",
            "Enter score for Subject English: 59\n",
            "Enter score for Subject Science: 73\n",
            "Enter student details:\n",
            "Student Name (or 'done' to finish): done\n",
            "\n",
            "Student Performance:\n",
            "Student: Nadia, Average: 79.33, Status: Passing\n",
            "Student: Madi, Average: 84.00, Status: Passing\n",
            "Student: Minahil, Average: 72.00, Status: Passing\n",
            "\n",
            "Class Average: 78.44\n"
          ]
        }
      ],
      "source": [
        "# Step 1: Create the Student Class\n",
        "\n",
        "class Student:\n",
        "    def __init__(self, name, scores):\n",
        "      if not name:\n",
        "            raise ValueError(\"Missing Name\")\n",
        "      self.name = name\n",
        "      self.scores = scores\n",
        "\n",
        "    def calculate_average(self):\n",
        "        return sum(self.scores) / len(self.scores)\n",
        "\n",
        "    def is_passing(self):\n",
        "        for score in self.scores:\n",
        "          if score < 50:\n",
        "            return False\n",
        "        return True\n",
        "\n",
        "\n",
        "\n",
        "# Step 2: Create the PerformanceTracker Class\n",
        "\n",
        "class PerformanceTracker:\n",
        "    def __init__(self):\n",
        "        self.students = {}\n",
        "\n",
        "    def add_student(self, name, scores):\n",
        "        self.students[name] = Student(name, scores)\n",
        "\n",
        "    def calculate_class_average(self):\n",
        "        if not self.students:\n",
        "            return 0\n",
        "        total_scores = []\n",
        "        for student in self.students.values():\n",
        "          total_scores.append(student.calculate_average())\n",
        "        return sum(total_scores) / len(total_scores)\n",
        "\n",
        "    def display_student_performance(self):\n",
        "        for name, student in self.students.items():\n",
        "            average = student.calculate_average()\n",
        "            if student.is_passing():\n",
        "              status = \"Passing\"\n",
        "            else:\n",
        "              status = \"Needs Improvement\"\n",
        "            print(f\"Student: {name}, Average: {average:.2f}, Status: {status}\")\n",
        "\n",
        "\n",
        "# Step 3: Handle User Input\n",
        "\n",
        "def main():\n",
        "    tracker = PerformanceTracker()\n",
        "    print(\"Welcome to the Student Performance Tracker!\\n\")\n",
        "\n",
        "    while True:\n",
        "        print(\"Enter student details:\")\n",
        "        name = input(\"Student Name (or 'done' to finish): \").strip()\n",
        "        if name.lower() == 'done':\n",
        "            break\n",
        "\n",
        "        try:\n",
        "            scores = []\n",
        "            subjects = [\"Maths\", \"English\", \"Science\"]\n",
        "            for subject in subjects:\n",
        "                score = float(input(f\"Enter score for Subject {subject}: \"))\n",
        "                if score < 0 or score > 100:\n",
        "                    raise ValueError(\"Score must be between 0 and 100.\")\n",
        "                scores.append(score)\n",
        "            tracker.add_student(name, scores)\n",
        "        except ValueError:\n",
        "            print(f\"Invalid input. Please try again.\")\n",
        "\n",
        "\n",
        "# Step 4: Calculate Averages and Display Performance\n",
        "    print(\"\\nStudent Performance:\")\n",
        "    tracker.display_student_performance()\n",
        "    class_avg = tracker.calculate_class_average()\n",
        "    print(f\"\\nClass Average: {class_avg:.2f}\")\n",
        "\n",
        "\n",
        "\n",
        "if __name__ == \"__main__\":\n",
        "    main()\n"
      ]
    },
    {
      "cell_type": "code",
      "source": [],
      "metadata": {
        "id": "M70bfFw4Z5-K"
      },
      "execution_count": null,
      "outputs": []
    }
  ]
}